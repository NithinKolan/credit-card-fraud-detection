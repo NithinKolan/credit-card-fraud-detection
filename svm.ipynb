{
  "cells": [
    {
      "cell_type": "code",
      "execution_count": null,
      "metadata": {
        "id": "vMV9DqkeQqKg"
      },
      "outputs": [],
      "source": [
        "import pandas as pd\n",
        "from sklearn.model_selection import train_test_split\n",
        "from sklearn.preprocessing import StandardScaler\n",
        "from sklearn.decomposition import PCA\n",
        "from sklearn.svm import SVC\n",
        "from sklearn.metrics import classification_report, confusion_matrix\n",
        "import numpy as np  # Needed for variance ratio calculations\n",
        "\n",
        "# Load the dataset\n",
        "df = pd.read_csv(\"Fraud_Detection_Dataset1.csv\")\n",
        "\n",
        "# Filling missing values with the mean value of their respective columns\n",
        "df.fillna(df.mean(), inplace=True)\n",
        "\n",
        "# Checking for any remaining missing values (optional)\n",
        "if df.isnull().values.any():\n",
        "    print(\"Dataset has missing values. Consider alternative handling methods.\")\n",
        "\n",
        "# Normalizing the dataset features\n",
        "features = df.columns.tolist()\n",
        "features.remove('Response')  # Assuming 'Response' is the target variable\n",
        "scaler = StandardScaler()\n",
        "df[features] = scaler.fit_transform(df[features])\n",
        "\n",
        "# Splitting the dataset\n",
        "X = df[features]\n",
        "y = df['Response']\n",
        "X_train, X_test, y_train, y_test = train_test_split(X, y, test_size=0.2, random_state=42)\n",
        "\n",
        "# Address multicollinearity with PCA\n",
        "pca = PCA()  # Initialize PCA without specifying components initially\n",
        "pca.fit(X_train)  # Fit PCA on the training data\n",
        "\n",
        "# Analyze variance explained by components (optional)\n",
        "variance_ratio = pca.explained_variance_ratio_\n",
        "\n",
        "# Choose a threshold for explained variance (e.g., 0.9)\n",
        "threshold = 0.9  # Retain components explaining 90% of variance\n",
        "n_components = np.where(variance_ratio.cumsum() >= threshold)[0][0] + 1\n",
        "\n",
        "# Reduce dimensionality based on the threshold\n",
        "pca = PCA(n_components=n_components)\n",
        "X_train_pca = pca.fit_transform(X_train)\n",
        "X_test_pca = pca.transform(X_test)\n",
        "\n",
        "# Filter out rows with target variable value 0.11603074 (optional, adjust as needed)\n",
        "filtered_indices_train = y_train != 0.11603074\n",
        "X_train_filtered = X_train_pca[filtered_indices_train]\n",
        "y_train_filtered = y_train[filtered_indices_train]\n",
        "\n",
        "filtered_indices_test = y_test != 0.11603074\n",
        "X_test_filtered = X_test_pca[filtered_indices_test]\n",
        "y_test_filtered = y_test[filtered_indices_test]\n",
        "\n",
        "# Round the target variable to the nearest integer\n",
        "y_train_rounded = y_train_filtered.round().astype(int)\n",
        "y_test_rounded = y_test_filtered.round().astype(int)"
      ]
    },
    {
      "cell_type": "code",
      "execution_count": null,
      "metadata": {
        "colab": {
          "background_save": true
        },
        "id": "83LzIfjkQyH5",
        "outputId": "abe45a86-7874-4db2-fee4-9d9d2dadc48c"
      },
      "outputs": [
        {
          "data": {
            "text/html": [
              "<style>#sk-container-id-1 {color: black;background-color: white;}#sk-container-id-1 pre{padding: 0;}#sk-container-id-1 div.sk-toggleable {background-color: white;}#sk-container-id-1 label.sk-toggleable__label {cursor: pointer;display: block;width: 100%;margin-bottom: 0;padding: 0.3em;box-sizing: border-box;text-align: center;}#sk-container-id-1 label.sk-toggleable__label-arrow:before {content: \"▸\";float: left;margin-right: 0.25em;color: #696969;}#sk-container-id-1 label.sk-toggleable__label-arrow:hover:before {color: black;}#sk-container-id-1 div.sk-estimator:hover label.sk-toggleable__label-arrow:before {color: black;}#sk-container-id-1 div.sk-toggleable__content {max-height: 0;max-width: 0;overflow: hidden;text-align: left;background-color: #f0f8ff;}#sk-container-id-1 div.sk-toggleable__content pre {margin: 0.2em;color: black;border-radius: 0.25em;background-color: #f0f8ff;}#sk-container-id-1 input.sk-toggleable__control:checked~div.sk-toggleable__content {max-height: 200px;max-width: 100%;overflow: auto;}#sk-container-id-1 input.sk-toggleable__control:checked~label.sk-toggleable__label-arrow:before {content: \"▾\";}#sk-container-id-1 div.sk-estimator input.sk-toggleable__control:checked~label.sk-toggleable__label {background-color: #d4ebff;}#sk-container-id-1 div.sk-label input.sk-toggleable__control:checked~label.sk-toggleable__label {background-color: #d4ebff;}#sk-container-id-1 input.sk-hidden--visually {border: 0;clip: rect(1px 1px 1px 1px);clip: rect(1px, 1px, 1px, 1px);height: 1px;margin: -1px;overflow: hidden;padding: 0;position: absolute;width: 1px;}#sk-container-id-1 div.sk-estimator {font-family: monospace;background-color: #f0f8ff;border: 1px dotted black;border-radius: 0.25em;box-sizing: border-box;margin-bottom: 0.5em;}#sk-container-id-1 div.sk-estimator:hover {background-color: #d4ebff;}#sk-container-id-1 div.sk-parallel-item::after {content: \"\";width: 100%;border-bottom: 1px solid gray;flex-grow: 1;}#sk-container-id-1 div.sk-label:hover label.sk-toggleable__label {background-color: #d4ebff;}#sk-container-id-1 div.sk-serial::before {content: \"\";position: absolute;border-left: 1px solid gray;box-sizing: border-box;top: 0;bottom: 0;left: 50%;z-index: 0;}#sk-container-id-1 div.sk-serial {display: flex;flex-direction: column;align-items: center;background-color: white;padding-right: 0.2em;padding-left: 0.2em;position: relative;}#sk-container-id-1 div.sk-item {position: relative;z-index: 1;}#sk-container-id-1 div.sk-parallel {display: flex;align-items: stretch;justify-content: center;background-color: white;position: relative;}#sk-container-id-1 div.sk-item::before, #sk-container-id-1 div.sk-parallel-item::before {content: \"\";position: absolute;border-left: 1px solid gray;box-sizing: border-box;top: 0;bottom: 0;left: 50%;z-index: -1;}#sk-container-id-1 div.sk-parallel-item {display: flex;flex-direction: column;z-index: 1;position: relative;background-color: white;}#sk-container-id-1 div.sk-parallel-item:first-child::after {align-self: flex-end;width: 50%;}#sk-container-id-1 div.sk-parallel-item:last-child::after {align-self: flex-start;width: 50%;}#sk-container-id-1 div.sk-parallel-item:only-child::after {width: 0;}#sk-container-id-1 div.sk-dashed-wrapped {border: 1px dashed gray;margin: 0 0.4em 0.5em 0.4em;box-sizing: border-box;padding-bottom: 0.4em;background-color: white;}#sk-container-id-1 div.sk-label label {font-family: monospace;font-weight: bold;display: inline-block;line-height: 1.2em;}#sk-container-id-1 div.sk-label-container {text-align: center;}#sk-container-id-1 div.sk-container {/* jupyter's `normalize.less` sets `[hidden] { display: none; }` but bootstrap.min.css set `[hidden] { display: none !important; }` so we also need the `!important` here to be able to override the default hidden behavior on the sphinx rendered scikit-learn.org. See: https://github.com/scikit-learn/scikit-learn/issues/21755 */display: inline-block !important;position: relative;}#sk-container-id-1 div.sk-text-repr-fallback {display: none;}</style><div id=\"sk-container-id-1\" class=\"sk-top-container\"><div class=\"sk-text-repr-fallback\"><pre>SVC()</pre><b>In a Jupyter environment, please rerun this cell to show the HTML representation or trust the notebook. <br />On GitHub, the HTML representation is unable to render, please try loading this page with nbviewer.org.</b></div><div class=\"sk-container\" hidden><div class=\"sk-item\"><div class=\"sk-estimator sk-toggleable\"><input class=\"sk-toggleable__control sk-hidden--visually\" id=\"sk-estimator-id-1\" type=\"checkbox\" checked><label for=\"sk-estimator-id-1\" class=\"sk-toggleable__label sk-toggleable__label-arrow\">SVC</label><div class=\"sk-toggleable__content\"><pre>SVC()</pre></div></div></div></div></div>"
            ],
            "text/plain": [
              "SVC()"
            ]
          },
          "execution_count": 2,
          "metadata": {},
          "output_type": "execute_result"
        }
      ],
      "source": [
        "# Instantiate and train the SVM model\n",
        "best_model = SVC(kernel='rbf')  # Use radial basis function (RBF) kernel for non-linear classification\n",
        "best_model.fit(X_train_filtered, y_train_rounded)"
      ]
    },
    {
      "cell_type": "code",
      "execution_count": 3,
      "metadata": {
        "id": "9KTXqQUfQ7GH"
      },
      "outputs": [],
      "source": [
        "# Predictions on filtered test set\n",
        "predictions = best_model.predict(X_test_filtered)"
      ]
    },
    {
      "cell_type": "code",
      "execution_count": 4,
      "metadata": {
        "colab": {
          "base_uri": "https://localhost:8080/"
        },
        "id": "mPHpPrk8S_ds",
        "outputId": "e3df5bd3-0509-4b4c-c70b-1c807d382a26"
      },
      "outputs": [
        {
          "output_type": "stream",
          "name": "stdout",
          "text": [
            "Confusion Matrix:\n",
            "[[15281   136]\n",
            " [ 1447   483]]\n",
            "\n",
            "Classification Report:\n",
            "              precision    recall  f1-score   support\n",
            "\n",
            "           0       0.91      0.99      0.95     15417\n",
            "           1       0.78      0.25      0.38      1930\n",
            "\n",
            "    accuracy                           0.91     17347\n",
            "   macro avg       0.85      0.62      0.66     17347\n",
            "weighted avg       0.90      0.91      0.89     17347\n",
            "\n"
          ]
        }
      ],
      "source": [
        "# Evaluate the model\n",
        "print(\"Confusion Matrix:\")\n",
        "print(confusion_matrix(y_test_rounded, predictions))\n",
        "print(\"\\nClassification Report:\")\n",
        "print(classification_report(y_test_rounded, predictions))"
      ]
    },
    {
      "cell_type": "code",
      "execution_count": 5,
      "metadata": {
        "id": "0f9kco0aTWlH"
      },
      "outputs": [],
      "source": [
        "testdata= pd.read_csv(\"Fraud_Detection_Test_nik.csv\")"
      ]
    },
    {
      "cell_type": "code",
      "execution_count": 6,
      "metadata": {
        "colab": {
          "base_uri": "https://localhost:8080/"
        },
        "id": "XmBS0vPhTmno",
        "outputId": "53e493e3-471f-4e2c-ff07-0e0907c5e177"
      },
      "outputs": [
        {
          "output_type": "stream",
          "name": "stdout",
          "text": [
            "   y_hat\n",
            "0      0\n",
            "1      0\n",
            "2      0\n",
            "3      0\n",
            "4      0\n"
          ]
        }
      ],
      "source": [
        "# Load test data\n",
        "testdata = pd.read_csv(\"Fraud_Detection_Test_nik.csv\")\n",
        "\n",
        "# Apply preprocessing and PCA to test data (assuming same preprocessing as training)\n",
        "testdata.fillna(testdata.mean(), inplace=True)\n",
        "testdata[features] = scaler.transform(testdata[features])  # Use fitted scaler\n",
        "X_test_pca = pca.transform(testdata[features])\n",
        "\n",
        "# Make predictions on test data\n",
        "y_pred = best_model.predict(X_test_pca)\n",
        "\n",
        "# Create a DataFrame with predictions\n",
        "df_y = pd.DataFrame(y_pred, columns=['y_hat'])\n",
        "\n",
        "# Display the first few rows of predictions\n",
        "print(df_y.head())"
      ]
    },
    {
      "cell_type": "code",
      "execution_count": 7,
      "metadata": {
        "id": "TvvMnlUmUgI7"
      },
      "outputs": [],
      "source": [
        "df_y.to_csv('Team-8(2-svm).csv',index=False)"
      ]
    },
    {
      "cell_type": "code",
      "execution_count": null,
      "metadata": {
        "id": "gQ_tqlUfU8Yp"
      },
      "outputs": [],
      "source": []
    }
  ],
  "metadata": {
    "colab": {
      "provenance": []
    },
    "kernelspec": {
      "display_name": "Python 3",
      "name": "python3"
    },
    "language_info": {
      "name": "python"
    }
  },
  "nbformat": 4,
  "nbformat_minor": 0
}